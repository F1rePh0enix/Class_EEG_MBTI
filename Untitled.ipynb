{
 "cells": [
  {
   "cell_type": "markdown",
   "id": "a25e14d4-fe41-4260-b3df-e8b31714a83c",
   "metadata": {},
   "source": [
    "# Database Playground"
   ]
  },
  {
   "cell_type": "code",
   "execution_count": null,
   "id": "d8c71ddf-58c0-4527-b839-40155ea5a145",
   "metadata": {},
   "outputs": [],
   "source": []
  }
 ],
 "metadata": {
  "kernelspec": {
   "display_name": "Python 3 (ipykernel)",
   "language": "python",
   "name": "python3"
  },
  "language_info": {
   "codemirror_mode": {
    "name": "ipython",
    "version": 3
   },
   "file_extension": ".py",
   "mimetype": "text/x-python",
   "name": "python",
   "nbconvert_exporter": "python",
   "pygments_lexer": "ipython3",
   "version": "3.11.9"
  }
 },
 "nbformat": 4,
 "nbformat_minor": 5
}
